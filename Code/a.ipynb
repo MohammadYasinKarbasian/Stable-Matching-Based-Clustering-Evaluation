{
 "cells": [
  {
   "cell_type": "code",
   "execution_count": 1,
   "metadata": {},
   "outputs": [],
   "source": [
    "import numpy as np\n",
    "\n",
    "numbers = np.arange(1, 9)\n",
    "\n",
    "samples = np.random.choice(numbers, size=10000, replace=True)\n",
    "\n"
   ]
  },
  {
   "cell_type": "code",
   "execution_count": 10,
   "metadata": {},
   "outputs": [],
   "source": [
    "numbers = np.arange(0, 10)"
   ]
  },
  {
   "cell_type": "code",
   "execution_count": 5,
   "metadata": {},
   "outputs": [
    {
     "name": "stdout",
     "output_type": "stream",
     "text": [
      "1198\n",
      "1255\n",
      "1250\n",
      "1234\n",
      "1203\n",
      "1295\n",
      "1281\n",
      "1284\n",
      "10000\n"
     ]
    }
   ],
   "source": [
    "sum = 0\n",
    "for i in numbers:\n",
    "    sum += np.sum(samples==i)\n",
    "    print(np.sum(samples==i))\n",
    "print(sum)"
   ]
  },
  {
   "cell_type": "code",
   "execution_count": 11,
   "metadata": {},
   "outputs": [],
   "source": [
    "import numpy as np\n",
    "\n",
    "mean = 4.5  \n",
    "std_dev = 1.5 \n",
    "\n",
    "samples = np.random.normal(loc=mean, scale=std_dev, size=10000)\n",
    "\n",
    "samples = np.round(samples)\n"
   ]
  },
  {
   "cell_type": "code",
   "execution_count": 12,
   "metadata": {},
   "outputs": [
    {
     "name": "stdout",
     "output_type": "stream",
     "text": [
      "[5. 3. 5. 2. 5. 6. 3. 3. 5. 7.]\n"
     ]
    }
   ],
   "source": [
    "\n",
    "samples = np.clip(samples, 1, 8)\n",
    "\n",
    "print(samples[:10])"
   ]
  },
  {
   "cell_type": "code",
   "execution_count": 9,
   "metadata": {},
   "outputs": [
    {
     "data": {
      "image/png": "[encoded data removed]",
      "text/plain": [
       "<Figure size 640x480 with 1 Axes>"
      ]
     },
     "metadata": {},
     "output_type": "display_data"
    }
   ],
   "source": [
    "import matplotlib.pyplot as plt\n",
    "\n",
    "# Plot the histogram of the samples\n",
    "plt.hist(samples, bins=np.arange(1, 10)-0.5, edgecolor='black')\n",
    "plt.xticks(range(1, 9))\n",
    "plt.xlabel('Number')\n",
    "plt.ylabel('Frequency')\n",
    "plt.title('Histogram of 10,000 Samples from 1 to 8 with Gaussian Distribution')\n",
    "plt.show()\n"
   ]
  },
  {
   "cell_type": "code",
   "execution_count": 5,
   "metadata": {},
   "outputs": [
    {
     "data": {
      "text/html": [
       "<div>\n",
       "<style scoped>\n",
       "    .dataframe tbody tr th:only-of-type {\n",
       "        vertical-align: middle;\n",
       "    }\n",
       "\n",
       "    .dataframe tbody tr th {\n",
       "        vertical-align: top;\n",
       "    }\n",
       "\n",
       "    .dataframe thead th {\n",
       "        text-align: right;\n",
       "    }\n",
       "</style>\n",
       "<table border=\"1\" class=\"dataframe\">\n",
       "  <thead>\n",
       "    <tr style=\"text-align: right;\">\n",
       "      <th></th>\n",
       "      <th>feature1</th>\n",
       "      <th>feature2</th>\n",
       "      <th>feature3</th>\n",
       "    </tr>\n",
       "  </thead>\n",
       "  <tbody>\n",
       "    <tr>\n",
       "      <th>0</th>\n",
       "      <td>229</td>\n",
       "      <td>659</td>\n",
       "      <td>172</td>\n",
       "    </tr>\n",
       "    <tr>\n",
       "      <th>1</th>\n",
       "      <td>868</td>\n",
       "      <td>349</td>\n",
       "      <td>206</td>\n",
       "    </tr>\n",
       "    <tr>\n",
       "      <th>2</th>\n",
       "      <td>989</td>\n",
       "      <td>563</td>\n",
       "      <td>254</td>\n",
       "    </tr>\n",
       "    <tr>\n",
       "      <th>3</th>\n",
       "      <td>434</td>\n",
       "      <td>783</td>\n",
       "      <td>654</td>\n",
       "    </tr>\n",
       "    <tr>\n",
       "      <th>4</th>\n",
       "      <td>416</td>\n",
       "      <td>805</td>\n",
       "      <td>476</td>\n",
       "    </tr>\n",
       "    <tr>\n",
       "      <th>...</th>\n",
       "      <td>...</td>\n",
       "      <td>...</td>\n",
       "      <td>...</td>\n",
       "    </tr>\n",
       "    <tr>\n",
       "      <th>999995</th>\n",
       "      <td>546</td>\n",
       "      <td>689</td>\n",
       "      <td>384</td>\n",
       "    </tr>\n",
       "    <tr>\n",
       "      <th>999996</th>\n",
       "      <td>96</td>\n",
       "      <td>82</td>\n",
       "      <td>2</td>\n",
       "    </tr>\n",
       "    <tr>\n",
       "      <th>999997</th>\n",
       "      <td>569</td>\n",
       "      <td>570</td>\n",
       "      <td>21</td>\n",
       "    </tr>\n",
       "    <tr>\n",
       "      <th>999998</th>\n",
       "      <td>670</td>\n",
       "      <td>226</td>\n",
       "      <td>370</td>\n",
       "    </tr>\n",
       "    <tr>\n",
       "      <th>999999</th>\n",
       "      <td>477</td>\n",
       "      <td>240</td>\n",
       "      <td>388</td>\n",
       "    </tr>\n",
       "  </tbody>\n",
       "</table>\n",
       "<p>1000000 rows × 3 columns</p>\n",
       "</div>"
      ],
      "text/plain": [
       "        feature1  feature2  feature3\n",
       "0            229       659       172\n",
       "1            868       349       206\n",
       "2            989       563       254\n",
       "3            434       783       654\n",
       "4            416       805       476\n",
       "...          ...       ...       ...\n",
       "999995       546       689       384\n",
       "999996        96        82         2\n",
       "999997       569       570        21\n",
       "999998       670       226       370\n",
       "999999       477       240       388\n",
       "\n",
       "[1000000 rows x 3 columns]"
      ]
     },
     "execution_count": 5,
     "metadata": {},
     "output_type": "execute_result"
    }
   ],
   "source": [
    "import numpy as np\n",
    "import pandas as pd\n",
    "\n",
    "num_rows = 1000000\n",
    "\n",
    "categories = np.arange(0, 1000)\n",
    "feature1 = np.random.choice(categories, num_rows, replace=True)\n",
    "feature2 = np.random.choice(categories, num_rows, replace=True)\n",
    "feature3 = np.random.choice(categories, num_rows, replace=True)\n",
    "\n",
    "ground = np.random.randint(0, 500, num_rows)\n",
    "\n",
    "data = {'feature1': feature1, 'feature2': feature2, 'feature3': feature3}\n",
    "df = pd.DataFrame(data)\n",
    "df"
   ]
  },
  {
   "cell_type": "code",
   "execution_count": 6,
   "metadata": {},
   "outputs": [],
   "source": [
    "def create_contingency_matrix2(ground_true, predicted, ground_true_unique, predicted_unique):\n",
    "    contingency_matrix = np.zeros((len(ground_true_unique), len(predicted_unique)), dtype=int)\n",
    "    ground_true_map = {label: i for i, label in enumerate(ground_true_unique)}\n",
    "    predicted_map = {label: j for j, label in enumerate(predicted_unique)}\n",
    "    for i in range(len(ground_true)):\n",
    "        contingency_matrix[ground_true_map[ground_true[i]], predicted_map[predicted[i]]] += 1\n",
    "    return contingency_matrix\n",
    "\n",
    "def create_contingency_matrix(ground_true, predicted, ground_true_unique, predicted_unique):\n",
    "    contingency_matrix = np.zeros((len(ground_true_unique), len(predicted_unique)), dtype=int)\n",
    "    for i, label1 in enumerate(ground_true_unique):\n",
    "      for j, label2 in enumerate(predicted_unique):\n",
    "        contingency_matrix[i, j] = np.sum((ground_true == label1) & (predicted == label2))\n",
    "    return contingency_matrix"
   ]
  },
  {
   "cell_type": "code",
   "execution_count": 7,
   "metadata": {},
   "outputs": [],
   "source": [
    "def uniform_distribution_data_generator(number_of_communities, number_of_data_rows):\n",
    "\n",
    "    numbers = np.arange(1, number_of_communities+1)\n",
    "    samples = np.random.choice(numbers, size=number_of_data_rows, replace=True)\n",
    "    return samples"
   ]
  },
  {
   "cell_type": "code",
   "execution_count": 16,
   "metadata": {},
   "outputs": [],
   "source": [
    "balance1 = uniform_distribution_data_generator(500, 100000)\n",
    "balance2 = uniform_distribution_data_generator(500, 100000)\n",
    "\n",
    "balance1_unique = np.unique(balance1)\n",
    "balance2_unique = np.unique(balance2)  \n"
   ]
  },
  {
   "cell_type": "code",
   "execution_count": 17,
   "metadata": {},
   "outputs": [],
   "source": [
    "contingency_matrix = create_contingency_matrix(balance1, balance2, balance1_unique, balance2_unique)"
   ]
  },
  {
   "cell_type": "code",
   "execution_count": 18,
   "metadata": {},
   "outputs": [],
   "source": [
    "contingency_matrix2 = create_contingency_matrix2(balance1, balance2, balance1_unique, balance2_unique)"
   ]
  },
  {
   "cell_type": "code",
   "execution_count": 19,
   "metadata": {},
   "outputs": [
    {
     "data": {
      "text/plain": [
       "array([[ True,  True,  True, ...,  True,  True,  True],\n",
       "       [ True,  True,  True, ...,  True,  True,  True],\n",
       "       [ True,  True,  True, ...,  True,  True,  True],\n",
       "       ...,\n",
       "       [ True,  True,  True, ...,  True,  True,  True],\n",
       "       [ True,  True,  True, ...,  True,  True,  True],\n",
       "       [ True,  True,  True, ...,  True,  True,  True]])"
      ]
     },
     "execution_count": 19,
     "metadata": {},
     "output_type": "execute_result"
    }
   ],
   "source": [
    "contingency_matrix == contingency_matrix2"
   ]
  },
  {
   "cell_type": "code",
   "execution_count": null,
   "metadata": {},
   "outputs": [],
   "source": []
  }
 ],
 "metadata": {
  "kernelspec": {
   "display_name": "anaconda-env",
   "language": "python",
   "name": "python3"
  },
  "language_info": {
   "codemirror_mode": {
    "name": "ipython",
    "version": 3
   },
   "file_extension": ".py",
   "mimetype": "text/x-python",
   "name": "python",
   "nbconvert_exporter": "python",
   "pygments_lexer": "ipython3",
   "version": "3.11.5"
  }
 },
 "nbformat": 4,
 "nbformat_minor": 2
}
