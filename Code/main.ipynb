{
 "cells": [
  {
   "cell_type": "markdown",
   "metadata": {},
   "source": [
    "# Imports"
   ]
  },
  {
   "cell_type": "code",
   "execution_count": 4,
   "metadata": {},
   "outputs": [],
   "source": [
    "import numpy as np\n",
    "import itertools"
   ]
  },
  {
   "cell_type": "markdown",
   "metadata": {},
   "source": [
    "# Create Compatability Matrix"
   ]
  },
  {
   "cell_type": "code",
   "execution_count": 5,
   "metadata": {},
   "outputs": [
    {
     "name": "stdout",
     "output_type": "stream",
     "text": [
      "Cluster A sizes:  [30 29 19 22]\n",
      "Compatibility Matrix:\n",
      " [[ 4  4  8 14]\n",
      " [ 5 12  8  4]\n",
      " [ 3  4  4  8]\n",
      " [ 7  8  2  5]]\n"
     ]
    }
   ],
   "source": [
    "def generate_random_compatibility_matrix(num_clusters_method_a, num_clusters_method_b, constant_sum):\n",
    "    random_matrix = np.zeros((num_clusters_method_a, num_clusters_method_b), dtype=int)\n",
    "    cluster_a_list = np.zeros((num_clusters_method_a), dtype=int)\n",
    "\n",
    "    for row_index in range(constant_sum):\n",
    "        random_index = np.random.randint(0, num_clusters_method_a)\n",
    "        cluster_a_list[random_index] += 1\n",
    "    print(\"Cluster A sizes: \", cluster_a_list)\n",
    "\n",
    "    for row_index in range(num_clusters_method_a):\n",
    "        for _ in range(cluster_a_list[row_index]):\n",
    "            random_index = np.random.randint(0, num_clusters_method_b)\n",
    "            random_matrix[row_index, random_index] += 1\n",
    "\n",
    "    return random_matrix\n",
    "\n",
    "\n",
    "num_clusters_method_a = 4\n",
    "num_clusters_method_b = 4\n",
    "total_members = 100\n",
    "\n",
    "compatibility_matrix = generate_random_compatibility_matrix(num_clusters_method_a, num_clusters_method_b, total_members)\n",
    "\n",
    "print(\"Compatibility Matrix:\\n\", compatibility_matrix)\n"
   ]
  },
  {
   "cell_type": "markdown",
   "metadata": {},
   "source": [
    "# Brute Force Matching"
   ]
  },
  {
   "cell_type": "code",
   "execution_count": 14,
   "metadata": {},
   "outputs": [],
   "source": [
    "def brute_force_matching(matrix):\n",
    "    num_clusters_a = matrix.shape[0]\n",
    "\n",
    "    all_permutations = list(itertools.permutations(range(num_clusters_a)))\n",
    "\n",
    "    best_matching = None\n",
    "    best_matching_sum = 0\n",
    "\n",
    "    for permutation in all_permutations:\n",
    "        matching_sum = np.sum(matrix[np.arange(num_clusters_a), permutation])\n",
    "        if matching_sum > best_matching_sum:\n",
    "            best_matching_sum = matching_sum\n",
    "            best_matching = permutation\n",
    "\n",
    "    return best_matching, best_matching_sum"
   ]
  },
  {
   "cell_type": "code",
   "execution_count": 12,
   "metadata": {},
   "outputs": [
    {
     "name": "stdout",
     "output_type": "stream",
     "text": [
      "[(0, 1, 2, 3), (0, 1, 3, 2), (0, 2, 1, 3), (0, 2, 3, 1), (0, 3, 1, 2), (0, 3, 2, 1), (1, 0, 2, 3), (1, 0, 3, 2), (1, 2, 0, 3), (1, 2, 3, 0), (1, 3, 0, 2), (1, 3, 2, 0), (2, 0, 1, 3), (2, 0, 3, 1), (2, 1, 0, 3), (2, 1, 3, 0), (2, 3, 0, 1), (2, 3, 1, 0), (3, 0, 1, 2), (3, 0, 2, 1), (3, 1, 0, 2), (3, 1, 2, 0), (3, 2, 0, 1), (3, 2, 1, 0)]\n",
      "14\n"
     ]
    }
   ],
   "source": [
    "# all_permutations = list(itertools.permutations(range(4)))\n",
    "# print(all_permutations)\n",
    "# print(np.sum(compatibility_matrix[np.arange(num_clusters_method_a), all_permutations[4]]))"
   ]
  },
  {
   "cell_type": "code",
   "execution_count": 17,
   "metadata": {},
   "outputs": [
    {
     "name": "stdout",
     "output_type": "stream",
     "text": [
      "Best Matching:  (3, 1, 2, 0)\n",
      "Best Matching Sum:  37\n"
     ]
    }
   ],
   "source": [
    "best_matching, best_matching_sum = brute_force_matching(compatibility_matrix)\n",
    "print(\"Best Matching: \", best_matching)\n",
    "print(\"Best Matching Sum: \", best_matching_sum)"
   ]
  },
  {
   "cell_type": "code",
   "execution_count": null,
   "metadata": {},
   "outputs": [],
   "source": []
  },
  {
   "cell_type": "code",
   "execution_count": null,
   "metadata": {},
   "outputs": [],
   "source": []
  }
 ],
 "metadata": {
  "kernelspec": {
   "display_name": "anaconda-env",
   "language": "python",
   "name": "python3"
  },
  "language_info": {
   "codemirror_mode": {
    "name": "ipython",
    "version": 3
   },
   "file_extension": ".py",
   "mimetype": "text/x-python",
   "name": "python",
   "nbconvert_exporter": "python",
   "pygments_lexer": "ipython3",
   "version": "3.11.5"
  }
 },
 "nbformat": 4,
 "nbformat_minor": 2
}
