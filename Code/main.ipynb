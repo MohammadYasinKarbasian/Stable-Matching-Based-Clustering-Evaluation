{
 "cells": [
  {
   "cell_type": "markdown",
   "metadata": {},
   "source": [
    "# Imports"
   ]
  },
  {
   "cell_type": "code",
   "execution_count": 18,
   "metadata": {},
   "outputs": [],
   "source": [
    "import numpy as np\n",
    "import itertools\n",
    "import copy"
   ]
  },
  {
   "cell_type": "markdown",
   "metadata": {},
   "source": [
    "# Create Compatability Matrix"
   ]
  },
  {
   "cell_type": "code",
   "execution_count": 5,
   "metadata": {},
   "outputs": [
    {
     "name": "stdout",
     "output_type": "stream",
     "text": [
      "Cluster A sizes:  [30 29 19 22]\n",
      "Compatibility Matrix:\n",
      " [[ 4  4  8 14]\n",
      " [ 5 12  8  4]\n",
      " [ 3  4  4  8]\n",
      " [ 7  8  2  5]]\n"
     ]
    }
   ],
   "source": [
    "def generate_random_compatibility_matrix(num_clusters_method_a, num_clusters_method_b, constant_sum):\n",
    "    random_matrix = np.zeros((num_clusters_method_a, num_clusters_method_b), dtype=int)\n",
    "    cluster_a_list = np.zeros((num_clusters_method_a), dtype=int)\n",
    "\n",
    "    for row_index in range(constant_sum):\n",
    "        random_index = np.random.randint(0, num_clusters_method_a)\n",
    "        cluster_a_list[random_index] += 1\n",
    "    print(\"Cluster A sizes: \", cluster_a_list)\n",
    "\n",
    "    for row_index in range(num_clusters_method_a):\n",
    "        for _ in range(cluster_a_list[row_index]):\n",
    "            random_index = np.random.randint(0, num_clusters_method_b)\n",
    "            random_matrix[row_index, random_index] += 1\n",
    "\n",
    "    return random_matrix\n",
    "\n",
    "\n",
    "num_clusters_method_a = 4\n",
    "num_clusters_method_b = 4\n",
    "total_members = 100\n",
    "\n",
    "compatibility_matrix = generate_random_compatibility_matrix(num_clusters_method_a, num_clusters_method_b, total_members)\n",
    "\n",
    "print(\"Compatibility Matrix:\\n\", compatibility_matrix)\n"
   ]
  },
  {
   "cell_type": "markdown",
   "metadata": {},
   "source": [
    "# Brute Force Matching"
   ]
  },
  {
   "cell_type": "code",
   "execution_count": 14,
   "metadata": {},
   "outputs": [],
   "source": [
    "def brute_force_matching(matrix):\n",
    "    num_clusters_a = matrix.shape[0]\n",
    "\n",
    "    all_permutations = list(itertools.permutations(range(num_clusters_a)))\n",
    "\n",
    "    best_matching = None\n",
    "    best_matching_sum = 0\n",
    "\n",
    "    for permutation in all_permutations:\n",
    "        matching_sum = np.sum(matrix[np.arange(num_clusters_a), permutation])\n",
    "        if matching_sum > best_matching_sum:\n",
    "            best_matching_sum = matching_sum\n",
    "            best_matching = permutation\n",
    "\n",
    "    return best_matching, best_matching_sum"
   ]
  },
  {
   "cell_type": "code",
   "execution_count": 39,
   "metadata": {},
   "outputs": [
    {
     "name": "stdout",
     "output_type": "stream",
     "text": [
      "Best Matching:  [(0, 3), (1, 1), (2, 2), (3, 0)]\n",
      "Best Matching Sum:  37\n"
     ]
    }
   ],
   "source": [
    "best_matching, best_matching_sum = brute_force_matching(compatibility_matrix)\n",
    "best_matching = [(index, number) for index, number in enumerate(best_matching)]\n",
    "print(\"Best Matching: \", best_matching)\n",
    "print(\"Best Matching Sum: \", best_matching_sum)"
   ]
  },
  {
   "cell_type": "markdown",
   "metadata": {},
   "source": [
    "# Stable Matching Based Clustering Evaluation"
   ]
  },
  {
   "cell_type": "code",
   "execution_count": 35,
   "metadata": {},
   "outputs": [],
   "source": [
    "def stable_matcher(matrix):\n",
    "\n",
    "    def priorities(matrix):\n",
    "\n",
    "        def rank(numbers):\n",
    "            sorted_indices = np.argsort(numbers)[::-1]\n",
    "            return sorted_indices\n",
    "        \n",
    "        output = []\n",
    "        for comm1 in range(matrix.shape[0]):\n",
    "            temp = []\n",
    "            for comm2 in range(matrix.shape[1]):\n",
    "                common = matrix[comm1,comm2]\n",
    "                temp.append(common)\n",
    "            output.append(rank(temp))\n",
    "        return output\n",
    "\n",
    "    def find_pair(List, value):\n",
    "        for pair in List:\n",
    "            if pair[1] == value:\n",
    "                return pair[0]\n",
    "            \n",
    "    def find_index_of_value_in_array(arr, target_value):\n",
    "        indices = np.where(arr == target_value)[0]\n",
    "        if indices.size > 0:\n",
    "            return indices[0]\n",
    "        else:\n",
    "            return \n",
    "            \n",
    "    chooser = range(matrix.shape[0])\n",
    "    wanted = range(matrix.shape[1])\n",
    "    pairs = []\n",
    "    unmatched_chooser = [index for index in range(len(chooser))]\n",
    "    unmatched_wanted = [index for index in range(len(wanted))]\n",
    "    prior_chooser = priorities(matrix)\n",
    "    prior_wanted = priorities(matrix.T)\n",
    "    while(len(unmatched_chooser)):\n",
    "        comm1 = unmatched_chooser.pop()\n",
    "        for matching_pred in prior_chooser[comm1]:\n",
    "            if matching_pred in unmatched_wanted:\n",
    "                pairs.append([comm1, matching_pred])\n",
    "                unmatched_wanted.remove(matching_pred)\n",
    "                break\n",
    "            else:\n",
    "                matched_with_wanted = find_pair(pairs,matching_pred)\n",
    "                if find_index_of_value_in_array(prior_wanted[matching_pred], comm1) < find_index_of_value_in_array(prior_wanted[matching_pred], matched_with_wanted):\n",
    "                    pairs.remove([matched_with_wanted, matching_pred])\n",
    "                    pairs.append([comm1, matching_pred])\n",
    "                    unmatched_chooser.append(matched_with_wanted)\n",
    "                    break\n",
    "    return pairs"
   ]
  },
  {
   "cell_type": "code",
   "execution_count": 41,
   "metadata": {},
   "outputs": [
    {
     "name": "stdout",
     "output_type": "stream",
     "text": [
      "Best Matching Based on Stable Matching:  [[0, 3], [1, 1], [2, 2], [3, 0]]\n",
      "Best Matching Sum Based on Stable Matching:  37\n"
     ]
    }
   ],
   "source": [
    "pairs = stable_matcher(compatibility_matrix)\n",
    "\n",
    "sorted_pairs = sorted(pairs, key=lambda x: x[0])\n",
    "best_score =  np.sum(compatibility_matrix[[pair[0] for pair in sorted_pairs], [pair[1] for pair in sorted_pairs]])\n",
    "\n",
    "print(\"Best Matching Based on Stable Matching: \", sorted_pairs)\n",
    "print(\"Best Matching Sum Based on Stable Matching: \", best_score)"
   ]
  },
  {
   "cell_type": "code",
   "execution_count": null,
   "metadata": {},
   "outputs": [],
   "source": []
  }
 ],
 "metadata": {
  "kernelspec": {
   "display_name": "anaconda-env",
   "language": "python",
   "name": "python3"
  },
  "language_info": {
   "codemirror_mode": {
    "name": "ipython",
    "version": 3
   },
   "file_extension": ".py",
   "mimetype": "text/x-python",
   "name": "python",
   "nbconvert_exporter": "python",
   "pygments_lexer": "ipython3",
   "version": "3.11.5"
  }
 },
 "nbformat": 4,
 "nbformat_minor": 2
}
