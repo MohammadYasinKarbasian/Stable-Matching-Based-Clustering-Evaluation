{
 "cells": [
  {
   "cell_type": "markdown",
   "metadata": {},
   "source": [
    "# Imports"
   ]
  },
  {
   "cell_type": "code",
   "execution_count": null,
   "metadata": {},
   "outputs": [],
   "source": [
    "import numpy as np"
   ]
  },
  {
   "cell_type": "markdown",
   "metadata": {},
   "source": [
    "# Create Compatability Matrix"
   ]
  },
  {
   "cell_type": "code",
   "execution_count": 24,
   "metadata": {},
   "outputs": [
    {
     "name": "stdout",
     "output_type": "stream",
     "text": [
      "Cluster A sizes:  [29 28 25 18]\n",
      "Compatibility Matrix:\n",
      " [[ 4 10  7  8]\n",
      " [ 3  5 12  8]\n",
      " [ 8  5  7  5]\n",
      " [ 4  3  3  8]]\n"
     ]
    }
   ],
   "source": [
    "def generate_random_compatibility_matrix(num_clusters_method_a, num_clusters_method_b, constant_sum):\n",
    "    random_matrix = np.zeros((num_clusters_method_a, num_clusters_method_b), dtype=int)\n",
    "    cluster_a_list = np.zeros((num_clusters_method_a), dtype=int)\n",
    "\n",
    "    for row_index in range(constant_sum):\n",
    "        random_index = np.random.randint(0, num_clusters_method_a)\n",
    "        cluster_a_list[random_index] += 1\n",
    "    print(\"Cluster A sizes: \", cluster_a_list)\n",
    "\n",
    "    for row_index in range(num_clusters_method_a):\n",
    "        for _ in range(cluster_a_list[row_index]):\n",
    "            random_index = np.random.randint(0, num_clusters_method_b)\n",
    "            random_matrix[row_index, random_index] += 1\n",
    "\n",
    "    return random_matrix\n",
    "\n",
    "\n",
    "num_clusters_method_a = 4\n",
    "num_clusters_method_b = 4\n",
    "total_members = 100\n",
    "\n",
    "compatibility_matrix = generate_random_compatibility_matrix(num_clusters_method_a, num_clusters_method_b, total_members)\n",
    "\n",
    "print(\"Compatibility Matrix:\\n\", compatibility_matrix)\n"
   ]
  },
  {
   "cell_type": "code",
   "execution_count": null,
   "metadata": {},
   "outputs": [],
   "source": []
  }
 ],
 "metadata": {
  "kernelspec": {
   "display_name": "anaconda-env",
   "language": "python",
   "name": "python3"
  },
  "language_info": {
   "codemirror_mode": {
    "name": "ipython",
    "version": 3
   },
   "file_extension": ".py",
   "mimetype": "text/x-python",
   "name": "python",
   "nbconvert_exporter": "python",
   "pygments_lexer": "ipython3",
   "version": "3.11.5"
  }
 },
 "nbformat": 4,
 "nbformat_minor": 2
}
