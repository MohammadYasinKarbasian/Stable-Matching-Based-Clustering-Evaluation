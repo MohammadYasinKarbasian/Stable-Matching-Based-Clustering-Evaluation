{
 "cells": [
  {
   "cell_type": "markdown",
   "metadata": {},
   "source": [
    "# Imports"
   ]
  },
  {
   "cell_type": "code",
   "execution_count": 1,
   "metadata": {},
   "outputs": [],
   "source": [
    "import numpy as np\n",
    "import itertools\n",
    "import copy\n",
    "import time\n",
    "import networkx as nx"
   ]
  },
  {
   "cell_type": "markdown",
   "metadata": {},
   "source": [
    "# Create Contingency Matrix"
   ]
  },
  {
   "cell_type": "code",
   "execution_count": 2,
   "metadata": {},
   "outputs": [],
   "source": [
    "def generate_random_contingency_matrix(num_clusters_method_a, num_clusters_method_b, constant_sum):\n",
    "    random_matrix = np.zeros((num_clusters_method_a, num_clusters_method_b), dtype=int)\n",
    "    cluster_a_list = np.zeros((num_clusters_method_a), dtype=int)\n",
    "\n",
    "    for row_index in range(constant_sum):\n",
    "        random_index = np.random.randint(0, num_clusters_method_a)\n",
    "        cluster_a_list[random_index] += 1\n",
    "\n",
    "    for row_index in range(num_clusters_method_a):\n",
    "        for _ in range(cluster_a_list[row_index]):\n",
    "            random_index = np.random.randint(0, num_clusters_method_b)\n",
    "            random_matrix[row_index, random_index] += 1\n",
    "\n",
    "    return random_matrix\n"
   ]
  },
  {
   "cell_type": "code",
   "execution_count": 3,
   "metadata": {},
   "outputs": [
    {
     "name": "stdout",
     "output_type": "stream",
     "text": [
      "Contingency Matrix:\n",
      " [[10  5  2  8]\n",
      " [ 4 12  7  9]\n",
      " [ 8  5  5  5]\n",
      " [ 6  4  8  2]]\n"
     ]
    }
   ],
   "source": [
    "num_clusters_method_a = 4\n",
    "num_clusters_method_b = 4\n",
    "total_members = 100\n",
    "\n",
    "contingency_matrix = generate_random_contingency_matrix(num_clusters_method_a, num_clusters_method_b, total_members)\n",
    "\n",
    "print(\"Contingency Matrix:\\n\", contingency_matrix)"
   ]
  },
  {
   "cell_type": "markdown",
   "metadata": {},
   "source": [
    "# Brute Force Matching"
   ]
  },
  {
   "cell_type": "code",
   "execution_count": 4,
   "metadata": {},
   "outputs": [],
   "source": [
    "def brute_force_matching(matrix):\n",
    "    num_clusters_a = matrix.shape[0]\n",
    "\n",
    "    best_matching = None\n",
    "    best_matching_sum = 0\n",
    "\n",
    "    for permutation in list(itertools.permutations(range(num_clusters_a))):\n",
    "        matching_sum = np.sum(matrix[np.arange(num_clusters_a), permutation])\n",
    "        if matching_sum > best_matching_sum:\n",
    "            best_matching_sum = matching_sum\n",
    "            best_matching = permutation\n",
    "\n",
    "    return best_matching, best_matching_sum"
   ]
  },
  {
   "cell_type": "code",
   "execution_count": 5,
   "metadata": {},
   "outputs": [
    {
     "name": "stdout",
     "output_type": "stream",
     "text": [
      "Best Matching:  [(0, 3), (1, 1), (2, 0), (3, 2)]\n",
      "Best Matching Sum:  36\n"
     ]
    }
   ],
   "source": [
    "best_matching, best_matching_sum = brute_force_matching(contingency_matrix)\n",
    "best_matching = [(index, number) for index, number in enumerate(best_matching)]\n",
    "print(\"Best Matching: \", best_matching)\n",
    "print(\"Best Matching Sum: \", best_matching_sum)"
   ]
  },
  {
   "cell_type": "markdown",
   "metadata": {},
   "source": [
    "# Stable Matching Based Clustering Evaluation"
   ]
  },
  {
   "cell_type": "code",
   "execution_count": 6,
   "metadata": {},
   "outputs": [],
   "source": [
    "class stable_matcher:\n",
    "\n",
    "    def __init__(self, matrix):\n",
    "        self.ready = False\n",
    "        self.pairs = []\n",
    "        self.matrix = np.zeros((matrix.shape[0], matrix.shape[1]), dtype=int)\n",
    "        self.matrix = copy.deepcopy(matrix)\n",
    "\n",
    "    def create_matrix(self, matrix):\n",
    "        self.ready = False\n",
    "        self.matrix = np.zeros((matrix.shape[0], matrix.shape[1]), dtype=int)\n",
    "        for i in range(matrix.shape[0]):\n",
    "            for j in range(matrix.shape[1]):\n",
    "                self.matrix[i, j] = matrix[i, j]\n",
    "\n",
    "    def score(self):\n",
    "        if self.ready:\n",
    "            return np.sum(self.matrix[[pair[0] for pair in self.pairs], [pair[1] for pair in self.pairs]])\n",
    "        return -1\n",
    "\n",
    "    def find_pairs(self):\n",
    "\n",
    "        def priorities(matrix):\n",
    "\n",
    "            def rank(numbers):\n",
    "                sorted_indices = np.argsort(numbers)[::-1]\n",
    "                return sorted_indices\n",
    "\n",
    "            output = []\n",
    "            for comm1 in range(matrix.shape[0]):\n",
    "                temp = []\n",
    "                for comm2 in range(matrix.shape[1]):\n",
    "                    common = matrix[comm1,comm2]\n",
    "                    temp.append(common)\n",
    "                output.append(rank(temp))\n",
    "            return output\n",
    "\n",
    "        def find_pair(List, value):\n",
    "            for pair in List:\n",
    "                if pair[1] == value:\n",
    "                    return pair[0]\n",
    "\n",
    "        def find_index_of_value_in_array(arr, target_value):\n",
    "            indices = np.where(arr == target_value)[0]\n",
    "            if indices.size > 0:\n",
    "                return indices[0]\n",
    "            else:\n",
    "                return \n",
    "\n",
    "        self.ready = True\n",
    "        self.pairs = []\n",
    "        chooser = range(self.matrix.shape[0])\n",
    "        wanted = range(self.matrix.shape[1])\n",
    "        unmatched_chooser = [index for index in range(len(chooser))]\n",
    "        unmatched_wanted = [index for index in range(len(wanted))]\n",
    "        prior_chooser = priorities(self.matrix)\n",
    "        prior_wanted = priorities(self.matrix.T)\n",
    "        while(len(unmatched_chooser)):\n",
    "            comm1 = unmatched_chooser.pop()\n",
    "            for matching_pred in prior_chooser[comm1]:\n",
    "                if matching_pred in unmatched_wanted:\n",
    "                    self.pairs.append([comm1, matching_pred])\n",
    "                    unmatched_wanted.remove(matching_pred)\n",
    "                    break\n",
    "                else:\n",
    "                    matched_with_wanted = find_pair(self.pairs,matching_pred)\n",
    "                    if find_index_of_value_in_array(prior_wanted[matching_pred], comm1) < find_index_of_value_in_array(prior_wanted[matching_pred], matched_with_wanted):\n",
    "                        self.pairs.remove([matched_with_wanted, matching_pred])\n",
    "                        self.pairs.append([comm1, matching_pred])\n",
    "                        unmatched_chooser.append(matched_with_wanted)\n",
    "                        break\n",
    "        return self.pairs"
   ]
  },
  {
   "cell_type": "code",
   "execution_count": 7,
   "metadata": {},
   "outputs": [
    {
     "name": "stdout",
     "output_type": "stream",
     "text": [
      "Best Matching Based on Stable Matching:  [[0, 0], [1, 1], [2, 3], [3, 2]]\n",
      "Best Matching Sum Based on Stable Matching:  35\n"
     ]
    }
   ],
   "source": [
    "stable = stable_matcher(contingency_matrix)\n",
    "pairs = stable.find_pairs()\n",
    "best_score =  stable.score()\n",
    "\n",
    "print(\"Best Matching Based on Stable Matching: \", sorted(pairs, key=lambda x: x[0]))\n",
    "print(\"Best Matching Sum Based on Stable Matching: \", best_score)"
   ]
  },
  {
   "cell_type": "markdown",
   "metadata": {},
   "source": [
    "# Maximum Weighted Matching"
   ]
  },
  {
   "cell_type": "code",
   "execution_count": 8,
   "metadata": {},
   "outputs": [],
   "source": [
    "\n",
    "class maximum_weighted_matching:\n",
    "\n",
    "    def __init__(self, matrix):\n",
    "        self.ready = False\n",
    "        self.pairs = []\n",
    "        self.num_clusters_method_a = matrix.shape[0]\n",
    "        self.num_clusters_method_b = matrix.shape[1]\n",
    "        self.graph = nx.Graph()\n",
    "        self.graph.add_nodes_from([f'A{i}' for i in range(num_clusters_method_a)], bipartite=0)\n",
    "        self.graph.add_nodes_from([f'B{i}' for i in range(num_clusters_method_b)], bipartite=1)\n",
    "        self.RB_top = {n for n, d in self.graph.nodes(data=True) if d[\"bipartite\"] == 0}\n",
    "        for i in range(self.num_clusters_method_a):\n",
    "            for j in range(self.num_clusters_method_b):\n",
    "                if matrix[i][j] > 0:\n",
    "                    self.graph.add_edge(f'A{i}', f'B{j}', weight=matrix[i][j])\n",
    "\n",
    "    def create_biparticle_graph_from_contingency_matrix(self, matrix):\n",
    "        self.ready = False\n",
    "        self.pairs = []\n",
    "        self.num_clusters_method_a = matrix.shape[0]\n",
    "        self.num_clusters_method_b = matrix.shape[1]\n",
    "        self.graph = nx.Graph()\n",
    "        self.graph.add_nodes_from([f'A{i}' for i in range(num_clusters_method_a)], bipartite=0)\n",
    "        self.graph.add_nodes_from([f'B{i}' for i in range(num_clusters_method_b)], bipartite=1)\n",
    "        self.RB_top = {n for n, d in self.graph.nodes(data=True) if d[\"bipartite\"] == 0}\n",
    "        for i in range(self.num_clusters_method_a):\n",
    "            for j in range(self.num_clusters_method_b):\n",
    "                if matrix[i][j] > 0:\n",
    "                    self.graph.add_edge(f'A{i}', f'B{j}', weight=matrix[i][j])\n",
    "\n",
    "    def score(self):\n",
    "        if self.ready:\n",
    "            score = 0\n",
    "            for i in self.pairs:\n",
    "                score += self.graph[i[0]][i[1]]['weight'] # output of mximum matching in nx is transposed.\n",
    "                # For example instead of (A0, B1) it returns (B0, A1). So I calculate score in this way to solve this issue.\n",
    "            return score\n",
    "        return -1\n",
    "\n",
    "    def find_pairs(self):\n",
    "        self.ready = True\n",
    "        self.pairs = []\n",
    "        matching = nx.max_weight_matching(self.graph)\n",
    "        # matching = nx.algorithms.bipartite.maximum_matching(self.graph, self.RB_top)\n",
    "        self.pairs = list(matching)\n",
    "        return self.pairs"
   ]
  },
  {
   "cell_type": "code",
   "execution_count": 9,
   "metadata": {},
   "outputs": [
    {
     "name": "stdout",
     "output_type": "stream",
     "text": [
      "Best Matching Based on Maximum Weighted Matching:  [('B1', 'A1'), ('B0', 'A2'), ('A3', 'B2'), ('A0', 'B3')]\n",
      "Best Matching Sum Based on Maximum Weighted Matching:  36\n"
     ]
    }
   ],
   "source": [
    "matcher = maximum_weighted_matching(contingency_matrix)\n",
    "pairs = matcher.find_pairs()\n",
    "best_score =  matcher.score()\n",
    "\n",
    "print(\"Best Matching Based on Maximum Weighted Matching: \", sorted(pairs, key=lambda x: x[1]))\n",
    "print(\"Best Matching Sum Based on Maximum Weighted Matching: \", best_score)"
   ]
  },
  {
   "cell_type": "markdown",
   "metadata": {},
   "source": [
    "# Testing"
   ]
  },
  {
   "cell_type": "code",
   "execution_count": 12,
   "metadata": {},
   "outputs": [],
   "source": [
    "def iterative_testing(num_clusters_method_a, num_clusters_method_b, total_members, num_iterations=100):\n",
    "    # this function is used to test the performance of the stable matching algorithm\n",
    "    # by running the algorithm multiple times and compare results with the maximum weighted matching.\n",
    "\n",
    "    create_time_maximum_weighted_matching = []\n",
    "    create_time_stable_matching = []\n",
    "\n",
    "    run_time_maximum_weighted_matching = []\n",
    "    run_time_stable_matching = []\n",
    "\n",
    "    accuracy_stable_matching = []\n",
    "\n",
    "    for _ in range(num_iterations):\n",
    "\n",
    "        contingency_matrix = generate_random_contingency_matrix(num_clusters_method_a, num_clusters_method_b, total_members)\n",
    "\n",
    "        stable = stable_matcher(contingency_matrix)\n",
    "\n",
    "        start = time.time()\n",
    "        stable.create_matrix(contingency_matrix)\n",
    "        end = time.time()\n",
    "        create_time_stable_matching.append(end-start)\n",
    "\n",
    "        start = time.time()\n",
    "        stable.find_pairs()\n",
    "        end = time.time()\n",
    "        run_time_stable_matching.append(end-start)\n",
    "\n",
    "        max_matching = maximum_weighted_matching(contingency_matrix)\n",
    "\n",
    "        start = time.time()\n",
    "        max_matching.create_biparticle_graph_from_contingency_matrix(contingency_matrix)\n",
    "        end = time.time()\n",
    "        create_time_maximum_weighted_matching.append(end-start)\n",
    "\n",
    "        start = time.time()\n",
    "        max_matching.find_pairs()\n",
    "        end = time.time()\n",
    "        run_time_maximum_weighted_matching.append(end-start)\n",
    "\n",
    "        accuracy_stable_matching.append(stable.score() / max_matching.score())\n",
    "\n",
    "    print(\"Average Create Time Maximum Weighted Matching: \", np.mean(create_time_maximum_weighted_matching))\n",
    "    print(\"Average Create Time Stable Matching: \", np.mean(create_time_stable_matching))\n",
    "    print(\"Average Run Time Maximum Weighted Matching: \", np.mean(run_time_maximum_weighted_matching))\n",
    "    print(\"Average Run Time Stable Matching: \", np.mean(run_time_stable_matching))\n",
    "    print(\"Average Accuracy Stable Matching: \", np.mean(accuracy_stable_matching))\n",
    "    "
   ]
  },
  {
   "cell_type": "code",
   "execution_count": 15,
   "metadata": {},
   "outputs": [
    {
     "name": "stdout",
     "output_type": "stream",
     "text": [
      "Average Create Time Maximum Weighted Matching:  0.0002779960632324219\n",
      "Average Create Time Stable Matching:  9.854793548583984e-05\n",
      "Average Run Time Maximum Weighted Matching:  0.0038750147819519042\n",
      "Average Run Time Stable Matching:  0.00039044618606567385\n",
      "Average Accuracy Stable Matching:  0.9801954379736503\n"
     ]
    }
   ],
   "source": [
    "iterative_testing(num_clusters_method_a=15, num_clusters_method_b=14, total_members=1000, num_iterations=100)"
   ]
  },
  {
   "cell_type": "code",
   "execution_count": 14,
   "metadata": {},
   "outputs": [
    {
     "name": "stdout",
     "output_type": "stream",
     "text": [
      "Average Create Time Maximum Weighted Matching:  0.010745792388916016\n",
      "Average Create Time Stable Matching:  0.0018314528465270996\n",
      "Average Run Time Maximum Weighted Matching:  0.2871543526649475\n",
      "Average Run Time Stable Matching:  0.00994124412536621\n",
      "Average Accuracy Stable Matching:  0.964178047458783\n"
     ]
    }
   ],
   "source": [
    "iterative_testing(num_clusters_method_a=100, num_clusters_method_b=100, total_members=10000, num_iterations=100)"
   ]
  },
  {
   "cell_type": "code",
   "execution_count": 16,
   "metadata": {},
   "outputs": [
    {
     "name": "stdout",
     "output_type": "stream",
     "text": [
      "Average Create Time Maximum Weighted Matching:  0.9968140125274658\n",
      "Average Create Time Stable Matching:  0.14902377128601074\n",
      "Average Run Time Maximum Weighted Matching:  161.64742159843445\n",
      "Average Run Time Stable Matching:  0.5578997135162354\n",
      "Average Accuracy Stable Matching:  0.974392523364486\n"
     ]
    }
   ],
   "source": [
    "iterative_testing(num_clusters_method_a=1000, num_clusters_method_b=1000, total_members=1000000, num_iterations=1)"
   ]
  },
  {
   "cell_type": "code",
   "execution_count": 10,
   "metadata": {},
   "outputs": [],
   "source": [
    "num_clusters_method_a = 11\n",
    "num_clusters_method_b = 11\n",
    "total_members = 1000\n",
    "\n",
    "contingency_matrix = generate_random_contingency_matrix(num_clusters_method_a, num_clusters_method_b, total_members)"
   ]
  },
  {
   "cell_type": "code",
   "execution_count": 11,
   "metadata": {},
   "outputs": [
    {
     "name": "stdout",
     "output_type": "stream",
     "text": [
      "Best Matching:  [(0, 0), (1, 2), (2, 3), (3, 10), (4, 8), (5, 4), (6, 7), (7, 6), (8, 5), (9, 1), (10, 9)]\n",
      "Best Matching Sum:  136\n",
      "BF Time Taken:  233.98167395591736\n"
     ]
    }
   ],
   "source": [
    "start = time.time()\n",
    "best_matching, best_matching_sum = brute_force_matching(contingency_matrix)\n",
    "best_matching = [(index, number) for index, number in enumerate(best_matching)]\n",
    "print(\"Best Matching: \", best_matching)\n",
    "print(\"Best Matching Sum: \", best_matching_sum)\n",
    "end = time.time()\n",
    "print(\"BF Time Taken: \", end - start)"
   ]
  },
  {
   "cell_type": "code",
   "execution_count": 19,
   "metadata": {},
   "outputs": [
    {
     "name": "stdout",
     "output_type": "stream",
     "text": [
      "Best Matching Based on Stable Matching:  [[0, 0], [1, 2], [2, 10], [3, 1], [4, 8], [5, 4], [6, 7], [7, 6], [8, 5], [9, 3], [10, 9]]\n",
      "Best Matching Sum Based on Stable Matching:  135\n",
      "SM Time Taken: 0.00\n"
     ]
    }
   ],
   "source": [
    "start = time.time()\n",
    "pairs = stable_matcher(contingency_matrix)\n",
    "sorted_pairs = sorted(pairs, key=lambda x: x[0])\n",
    "best_score =  np.sum(contingency_matrix[[pair[0] for pair in sorted_pairs], [pair[1] for pair in sorted_pairs]])\n",
    "print(\"Best Matching Based on Stable Matching: \", sorted_pairs)\n",
    "print(\"Best Matching Sum Based on Stable Matching: \", best_score)\n",
    "end = time.time()\n",
    "print(f\"SM Time Taken: {(end - start):.2f}\")"
   ]
  },
  {
   "cell_type": "code",
   "execution_count": 16,
   "metadata": {},
   "outputs": [
    {
     "name": "stdout",
     "output_type": "stream",
     "text": [
      "Accuracy: 0.9926470588235294\n"
     ]
    }
   ],
   "source": [
    "print(f'Accuracy: {best_score/ best_matching_sum}')"
   ]
  },
  {
   "cell_type": "code",
   "execution_count": 20,
   "metadata": {},
   "outputs": [
    {
     "name": "stdout",
     "output_type": "stream",
     "text": [
      "Best Matching:  [(0, 4), (1, 0), (2, 8), (3, 3), (4, 1), (5, 6), (6, 9), (7, 2), (8, 7), (9, 5)]\n",
      "Best Matching Sum:  148\n",
      "BF Time Taken:  18.0100576877594\n",
      "Best Matching Based on Stable Matching:  [[0, 4], [1, 0], [2, 2], [3, 8], [4, 1], [5, 6], [6, 9], [7, 3], [8, 7], [9, 5]]\n",
      "Best Matching Sum Based on Stable Matching:  147\n",
      "SM Time Taken: 0.00\n",
      "Accuracy: 0.9932432432432432\n"
     ]
    }
   ],
   "source": [
    "num_clusters_method_a = 10\n",
    "num_clusters_method_b = 10\n",
    "total_members = 1000\n",
    "\n",
    "contingency_matrix = generate_random_contingency_matrix(num_clusters_method_a, num_clusters_method_b, total_members)\n",
    "\n",
    "start = time.time()\n",
    "best_matching, best_matching_sum = brute_force_matching(contingency_matrix)\n",
    "best_matching = [(index, number) for index, number in enumerate(best_matching)]\n",
    "print(\"Best Matching: \", best_matching)\n",
    "print(\"Best Matching Sum: \", best_matching_sum)\n",
    "end = time.time()\n",
    "print(\"BF Time Taken: \", end - start)\n",
    "\n",
    "start = time.time()\n",
    "pairs = stable_matcher(contingency_matrix)\n",
    "sorted_pairs = sorted(pairs, key=lambda x: x[0])\n",
    "best_score =  np.sum(contingency_matrix[[pair[0] for pair in sorted_pairs], [pair[1] for pair in sorted_pairs]])\n",
    "print(\"Best Matching Based on Stable Matching: \", sorted_pairs)\n",
    "print(\"Best Matching Sum Based on Stable Matching: \", best_score)\n",
    "end = time.time()\n",
    "print(f\"SM Time Taken: {(end - start):.2f}\")\n",
    "\n",
    "print(f'Accuracy: {best_score/ best_matching_sum}')"
   ]
  },
  {
   "cell_type": "code",
   "execution_count": 23,
   "metadata": {},
   "outputs": [
    {
     "name": "stdout",
     "output_type": "stream",
     "text": [
      "Best Matching Based on Stable Matching:  [[0, 0], [1, 13], [2, 12], [3, 11], [4, 8], [5, 6], [6, 7], [7, 3], [8, 9], [9, 5], [10, 2], [11, 14], [12, 10], [13, 4], [14, 1]]\n",
      "Best Matching Sum Based on Stable Matching:  836\n",
      "SM Time Taken: 0.00\n"
     ]
    }
   ],
   "source": [
    "num_clusters_method_a = 15\n",
    "num_clusters_method_b = 15\n",
    "total_members = 10000\n",
    "\n",
    "contingency_matrix = generate_random_contingency_matrix(num_clusters_method_a, num_clusters_method_b, total_members)\n",
    "\n",
    "start = time.time()\n",
    "pairs = stable_matcher(contingency_matrix)\n",
    "sorted_pairs = sorted(pairs, key=lambda x: x[0])\n",
    "best_score =  np.sum(contingency_matrix[[pair[0] for pair in sorted_pairs], [pair[1] for pair in sorted_pairs]])\n",
    "print(\"Best Matching Based on Stable Matching: \", sorted_pairs)\n",
    "print(\"Best Matching Sum Based on Stable Matching: \", best_score)\n",
    "end = time.time()\n",
    "print(f\"SM Time Taken: {(end - start):.2f}\")"
   ]
  },
  {
   "cell_type": "code",
   "execution_count": 25,
   "metadata": {},
   "outputs": [
    {
     "name": "stdout",
     "output_type": "stream",
     "text": [
      "Best Matching Based on Stable Matching:  [[0, 7], [1, 26], [2, 38], [3, 13], [4, 27], [5, 18], [6, 10], [7, 36], [8, 47], [9, 20], [10, 19], [11, 41], [12, 28], [13, 23], [14, 24], [15, 2], [16, 29], [17, 0], [18, 45], [19, 4], [20, 9], [21, 16], [22, 46], [23, 3], [24, 5], [25, 25], [26, 31], [27, 21], [28, 44], [29, 14], [30, 34], [31, 6], [32, 22], [33, 11], [34, 8], [35, 32], [36, 17], [37, 40], [38, 12], [39, 15], [40, 35], [41, 37], [42, 43], [43, 42], [44, 39], [45, 33], [46, 49], [47, 48], [48, 30], [49, 1]]\n",
      "Best Matching Sum Based on Stable Matching:  2624\n",
      "SM Time Taken: 0.00\n"
     ]
    }
   ],
   "source": [
    "num_clusters_method_a = 50\n",
    "num_clusters_method_b = 50\n",
    "total_members = 100000\n",
    "\n",
    "contingency_matrix = generate_random_contingency_matrix(num_clusters_method_a, num_clusters_method_b, total_members)\n",
    "\n",
    "start = time.time()\n",
    "pairs = stable_matcher(contingency_matrix)\n",
    "sorted_pairs = sorted(pairs, key=lambda x: x[0])\n",
    "best_score =  np.sum(contingency_matrix[[pair[0] for pair in sorted_pairs], [pair[1] for pair in sorted_pairs]])\n",
    "print(\"Best Matching Based on Stable Matching: \", sorted_pairs)\n",
    "print(\"Best Matching Sum Based on Stable Matching: \", best_score)\n",
    "end = time.time()\n",
    "print(f\"SM Time Taken: {(end - start):.2f}\")"
   ]
  },
  {
   "cell_type": "code",
   "execution_count": 28,
   "metadata": {},
   "outputs": [
    {
     "name": "stdout",
     "output_type": "stream",
     "text": [
      "Best Matching Based on Stable Matching:  [[0, 17], [1, 63], [2, 58], [3, 32], [4, 33], [5, 30], [6, 66], [7, 43], [8, 93], [9, 53], [10, 83], [11, 77], [12, 56], [13, 11], [14, 20], [15, 48], [16, 8], [17, 55], [18, 27], [19, 82], [20, 10], [21, 50], [22, 0], [23, 52], [24, 45], [25, 67], [26, 14], [27, 7], [28, 68], [29, 80], [30, 49], [31, 1], [32, 65], [33, 86], [34, 25], [35, 59], [36, 79], [37, 72], [38, 92], [39, 75], [40, 9], [41, 70], [42, 13], [43, 42], [44, 71], [45, 97], [46, 98], [47, 19], [48, 95], [49, 5], [50, 54], [51, 26], [52, 46], [53, 34], [54, 47], [55, 51], [56, 12], [57, 62], [58, 85], [59, 38], [60, 29], [61, 60], [62, 22], [63, 91], [64, 35], [65, 18], [66, 84], [67, 21], [68, 28], [69, 4], [70, 40], [71, 88], [72, 89], [73, 44], [74, 61], [75, 2], [76, 39], [77, 24], [78, 6], [79, 69], [80, 57], [81, 96], [82, 36], [83, 78], [84, 90], [85, 3], [86, 64], [87, 37], [88, 74], [89, 16], [90, 15], [91, 81], [92, 23], [93, 94], [94, 73], [95, 99], [96, 76], [97, 31], [98, 41], [99, 87]]\n",
      "Best Matching Sum Based on Stable Matching:  12422\n",
      "SM Time Taken: 0.01\n"
     ]
    }
   ],
   "source": [
    "num_clusters_method_a = 100\n",
    "num_clusters_method_b = 100\n",
    "total_members = 1000000\n",
    "\n",
    "contingency_matrix = generate_random_contingency_matrix(num_clusters_method_a, num_clusters_method_b, total_members)\n",
    "\n",
    "start = time.time()\n",
    "pairs = stable_matcher(contingency_matrix)\n",
    "sorted_pairs = sorted(pairs, key=lambda x: x[0])\n",
    "best_score =  np.sum(contingency_matrix[[pair[0] for pair in sorted_pairs], [pair[1] for pair in sorted_pairs]])\n",
    "print(\"Best Matching Based on Stable Matching: \", sorted_pairs)\n",
    "print(\"Best Matching Sum Based on Stable Matching: \", best_score)\n",
    "end = time.time()\n",
    "print(f\"SM Time Taken: {(end - start):.2f}\")"
   ]
  },
  {
   "cell_type": "code",
   "execution_count": 27,
   "metadata": {},
   "outputs": [
    {
     "name": "stdout",
     "output_type": "stream",
     "text": [
      "Best Matching Based on Stable Matching:  [[0, 720], [1, 855], [2, 575], [3, 491], [4, 807], [5, 372], [6, 469], [7, 909], [8, 985], [9, 980], [10, 362], [11, 181], [12, 717], [13, 929], [14, 233], [15, 395], [16, 99], [17, 81], [18, 893], [19, 219], [20, 844], [21, 611], [22, 267], [23, 887], [24, 70], [25, 509], [26, 535], [27, 521], [28, 327], [29, 872], [30, 66], [31, 832], [32, 916], [33, 448], [34, 253], [35, 111], [36, 776], [37, 180], [38, 24], [39, 605], [40, 747], [41, 258], [42, 260], [43, 962], [44, 958], [45, 567], [46, 283], [47, 546], [48, 360], [49, 782], [50, 606], [51, 214], [52, 409], [53, 904], [54, 759], [55, 197], [56, 737], [57, 620], [58, 464], [59, 419], [60, 780], [61, 924], [62, 968], [63, 865], [64, 994], [65, 35], [66, 217], [67, 4], [68, 11], [69, 266], [70, 158], [71, 177], [72, 137], [73, 617], [74, 207], [75, 710], [76, 206], [77, 615], [78, 79], [79, 629], [80, 764], [81, 321], [82, 240], [83, 308], [84, 61], [85, 145], [86, 964], [87, 911], [88, 804], [89, 329], [90, 161], [91, 914], [92, 318], [93, 312], [94, 974], [95, 87], [96, 270], [97, 834], [98, 745], [99, 499], [100, 468], [101, 438], [102, 648], [103, 78], [104, 13], [105, 202], [106, 324], [107, 991], [108, 346], [109, 925], [110, 153], [111, 48], [112, 578], [113, 784], [114, 107], [115, 14], [116, 696], [117, 69], [118, 510], [119, 652], [120, 616], [121, 203], [122, 942], [123, 32], [124, 886], [125, 140], [126, 908], [127, 182], [128, 761], [129, 866], [130, 848], [131, 983], [132, 949], [133, 870], [134, 594], [135, 639], [136, 439], [137, 503], [138, 493], [139, 460], [140, 627], [141, 6], [142, 519], [143, 726], [144, 882], [145, 734], [146, 550], [147, 247], [148, 514], [149, 836], [150, 404], [151, 744], [152, 444], [153, 467], [154, 80], [155, 500], [156, 163], [157, 936], [158, 402], [159, 787], [160, 750], [161, 109], [162, 888], [163, 366], [164, 574], [165, 837], [166, 98], [167, 344], [168, 209], [169, 338], [170, 286], [171, 654], [172, 383], [173, 129], [174, 293], [175, 742], [176, 755], [177, 341], [178, 877], [179, 789], [180, 122], [181, 963], [182, 465], [183, 618], [184, 824], [185, 287], [186, 34], [187, 250], [188, 379], [189, 230], [190, 162], [191, 280], [192, 715], [193, 303], [194, 972], [195, 447], [196, 609], [197, 651], [198, 490], [199, 517], [200, 164], [201, 812], [202, 391], [203, 119], [204, 424], [205, 527], [206, 900], [207, 59], [208, 544], [209, 120], [210, 150], [211, 879], [212, 821], [213, 208], [214, 783], [215, 817], [216, 704], [217, 76], [218, 525], [219, 39], [220, 463], [221, 356], [222, 236], [223, 597], [224, 95], [225, 417], [226, 430], [227, 232], [228, 388], [229, 335], [230, 939], [231, 392], [232, 660], [233, 596], [234, 281], [235, 671], [236, 598], [237, 592], [238, 37], [239, 393], [240, 735], [241, 587], [242, 166], [243, 570], [244, 305], [245, 771], [246, 883], [247, 927], [248, 309], [249, 284], [250, 262], [251, 946], [252, 919], [253, 369], [254, 397], [255, 549], [256, 874], [257, 854], [258, 474], [259, 497], [260, 94], [261, 450], [262, 55], [263, 850], [264, 555], [265, 353], [266, 839], [267, 88], [268, 43], [269, 873], [270, 146], [271, 835], [272, 543], [273, 891], [274, 663], [275, 628], [276, 373], [277, 381], [278, 143], [279, 816], [280, 857], [281, 884], [282, 831], [283, 441], [284, 576], [285, 753], [286, 529], [287, 819], [288, 294], [289, 431], [290, 86], [291, 110], [292, 339], [293, 496], [294, 632], [295, 453], [296, 806], [297, 724], [298, 937], [299, 961], [300, 641], [301, 275], [302, 398], [303, 805], [304, 593], [305, 416], [306, 173], [307, 507], [308, 271], [309, 251], [310, 539], [311, 760], [312, 257], [313, 440], [314, 480], [315, 896], [316, 796], [317, 600], [318, 545], [319, 709], [320, 712], [321, 486], [322, 492], [323, 859], [324, 459], [325, 981], [326, 234], [327, 995], [328, 860], [329, 184], [330, 331], [331, 252], [332, 17], [333, 101], [334, 265], [335, 800], [336, 264], [337, 42], [338, 229], [339, 412], [340, 889], [341, 602], [342, 168], [343, 452], [344, 993], [345, 138], [346, 242], [347, 613], [348, 838], [349, 693], [350, 483], [351, 371], [352, 990], [353, 880], [354, 674], [355, 770], [356, 653], [357, 415], [358, 190], [359, 815], [360, 723], [361, 551], [362, 385], [363, 841], [364, 631], [365, 89], [366, 278], [367, 30], [368, 304], [369, 786], [370, 171], [371, 785], [372, 802], [373, 65], [374, 186], [375, 29], [376, 374], [377, 779], [378, 93], [379, 238], [380, 363], [381, 28], [382, 965], [383, 528], [384, 948], [385, 591], [386, 403], [387, 552], [388, 867], [389, 498], [390, 289], [391, 2], [392, 752], [393, 445], [394, 513], [395, 736], [396, 16], [397, 562], [398, 377], [399, 714], [400, 668], [401, 62], [402, 843], [403, 941], [404, 868], [405, 355], [406, 201], [407, 272], [408, 425], [409, 852], [410, 643], [411, 354], [412, 382], [413, 228], [414, 772], [415, 526], [416, 476], [417, 732], [418, 454], [419, 462], [420, 938], [421, 795], [422, 794], [423, 56], [424, 406], [425, 537], [426, 982], [427, 316], [428, 25], [429, 347], [430, 678], [431, 19], [432, 54], [433, 703], [434, 840], [435, 945], [436, 155], [437, 869], [438, 135], [439, 842], [440, 142], [441, 103], [442, 92], [443, 7], [444, 791], [445, 243], [446, 50], [447, 684], [448, 970], [449, 235], [450, 830], [451, 269], [452, 683], [453, 633], [454, 698], [455, 864], [456, 636], [457, 418], [458, 307], [459, 224], [460, 169], [461, 716], [462, 932], [463, 475], [464, 149], [465, 902], [466, 813], [467, 220], [468, 508], [469, 114], [470, 774], [471, 136], [472, 917], [473, 758], [474, 390], [475, 51], [476, 351], [477, 420], [478, 277], [479, 57], [480, 176], [481, 604], [482, 765], [483, 375], [484, 630], [485, 472], [486, 91], [487, 645], [488, 610], [489, 951], [490, 58], [491, 332], [492, 85], [493, 413], [494, 534], [495, 337], [496, 589], [497, 212], [498, 520], [499, 246], [500, 223], [501, 314], [502, 763], [503, 306], [504, 295], [505, 348], [506, 826], [507, 721], [508, 730], [509, 216], [510, 920], [511, 22], [512, 947], [513, 148], [514, 200], [515, 969], [516, 458], [517, 12], [518, 818], [519, 481], [520, 449], [521, 767], [522, 538], [523, 952], [524, 898], [525, 345], [526, 244], [527, 913], [528, 489], [529, 979], [530, 370], [531, 313], [532, 319], [533, 626], [534, 851], [535, 326], [536, 957], [537, 876], [538, 84], [539, 31], [540, 333], [541, 524], [542, 955], [543, 502], [544, 427], [545, 933], [546, 378], [547, 170], [548, 411], [549, 960], [550, 100], [551, 971], [552, 5], [553, 680], [554, 934], [555, 310], [556, 881], [557, 44], [558, 875], [559, 40], [560, 999], [561, 718], [562, 477], [563, 436], [564, 97], [565, 141], [566, 862], [567, 871], [568, 198], [569, 548], [570, 612], [571, 26], [572, 725], [573, 614], [574, 288], [575, 160], [576, 82], [577, 73], [578, 858], [579, 408], [580, 194], [581, 603], [582, 15], [583, 41], [584, 650], [585, 890], [586, 798], [587, 292], [588, 822], [589, 195], [590, 139], [591, 565], [592, 926], [593, 967], [594, 739], [595, 688], [596, 966], [597, 494], [598, 659], [599, 695], [600, 185], [601, 342], [602, 757], [603, 248], [604, 376], [605, 847], [606, 147], [607, 8], [608, 809], [609, 722], [610, 751], [611, 686], [612, 996], [613, 814], [614, 23], [615, 975], [616, 640], [617, 977], [618, 690], [619, 930], [620, 922], [621, 664], [622, 748], [623, 291], [624, 541], [625, 553], [626, 766], [627, 905], [628, 1], [629, 124], [630, 227], [631, 691], [632, 451], [633, 432], [634, 984], [635, 188], [636, 75], [637, 433], [638, 330], [639, 367], [640, 352], [641, 959], [642, 115], [643, 523], [644, 649], [645, 803], [646, 90], [647, 820], [648, 560], [649, 810], [650, 478], [651, 317], [652, 178], [653, 677], [654, 762], [655, 495], [656, 702], [657, 625], [658, 410], [659, 940], [660, 175], [661, 9], [662, 740], [663, 434], [664, 921], [665, 885], [666, 172], [667, 167], [668, 126], [669, 811], [670, 992], [671, 568], [672, 749], [673, 863], [674, 700], [675, 781], [676, 241], [677, 599], [678, 204], [679, 443], [680, 380], [681, 426], [682, 953], [683, 116], [684, 72], [685, 564], [686, 522], [687, 273], [688, 157], [689, 512], [690, 199], [691, 583], [692, 60], [693, 437], [694, 428], [695, 133], [696, 741], [697, 733], [698, 336], [699, 484], [700, 27], [701, 655], [702, 557], [703, 944], [704, 282], [705, 622], [706, 130], [707, 263], [708, 165], [709, 681], [710, 446], [711, 572], [712, 915], [713, 533], [714, 299], [715, 21], [716, 482], [717, 152], [718, 127], [719, 656], [720, 20], [721, 706], [722, 731], [723, 45], [724, 769], [725, 694], [726, 83], [727, 728], [728, 106], [729, 255], [730, 542], [731, 108], [732, 328], [733, 174], [734, 239], [735, 435], [736, 588], [737, 49], [738, 536], [739, 0], [740, 501], [741, 473], [742, 357], [743, 675], [744, 986], [745, 487], [746, 159], [747, 365], [748, 516], [749, 193], [750, 673], [751, 311], [752, 676], [753, 506], [754, 642], [755, 563], [756, 950], [757, 792], [758, 956], [759, 608], [760, 511], [761, 906], [762, 196], [763, 132], [764, 276], [765, 897], [766, 559], [767, 386], [768, 561], [769, 540], [770, 300], [771, 662], [772, 768], [773, 672], [774, 801], [775, 77], [776, 105], [777, 531], [778, 405], [779, 399], [780, 918], [781, 359], [782, 461], [783, 423], [784, 225], [785, 302], [786, 504], [787, 797], [788, 268], [789, 577], [790, 118], [791, 325], [792, 707], [793, 793], [794, 988], [795, 601], [796, 279], [797, 931], [798, 256], [799, 231], [800, 67], [801, 113], [802, 973], [803, 394], [804, 18], [805, 711], [806, 989], [807, 635], [808, 210], [809, 518], [810, 414], [811, 987], [812, 623], [813, 237], [814, 827], [815, 298], [816, 976], [817, 692], [818, 719], [819, 595], [820, 128], [821, 580], [822, 215], [823, 183], [824, 788], [825, 658], [826, 644], [827, 669], [828, 829], [829, 340], [830, 901], [831, 878], [832, 607], [833, 205], [834, 689], [835, 421], [836, 315], [837, 978], [838, 903], [839, 621], [840, 53], [841, 778], [842, 471], [843, 666], [844, 96], [845, 665], [846, 647], [847, 285], [848, 532], [849, 775], [850, 586], [851, 515], [852, 245], [853, 892], [854, 849], [855, 773], [856, 998], [857, 63], [858, 470], [859, 323], [860, 71], [861, 828], [862, 33], [863, 112], [864, 401], [865, 579], [866, 912], [867, 935], [868, 52], [869, 407], [870, 895], [871, 297], [872, 485], [873, 47], [874, 923], [875, 364], [876, 569], [877, 38], [878, 226], [879, 571], [880, 179], [881, 624], [882, 104], [883, 442], [884, 349], [885, 727], [886, 746], [887, 634], [888, 211], [889, 10], [890, 259], [891, 823], [892, 670], [893, 384], [894, 679], [895, 685], [896, 358], [897, 738], [898, 584], [899, 619], [900, 144], [901, 296], [902, 396], [903, 151], [904, 846], [905, 729], [906, 701], [907, 661], [908, 156], [909, 121], [910, 123], [911, 856], [912, 361], [913, 68], [914, 861], [915, 102], [916, 222], [917, 505], [918, 125], [919, 457], [920, 131], [921, 954], [922, 400], [923, 845], [924, 429], [925, 36], [926, 558], [927, 456], [928, 389], [929, 249], [930, 756], [931, 46], [932, 699], [933, 907], [934, 213], [935, 343], [936, 853], [937, 582], [938, 479], [939, 187], [940, 547], [941, 466], [942, 74], [943, 387], [944, 646], [945, 581], [946, 697], [947, 290], [948, 754], [949, 928], [950, 943], [951, 833], [952, 191], [953, 637], [954, 997], [955, 117], [956, 590], [957, 274], [958, 320], [959, 218], [960, 254], [961, 585], [962, 350], [963, 657], [964, 910], [965, 777], [966, 530], [967, 154], [968, 322], [969, 799], [970, 334], [971, 556], [972, 422], [973, 894], [974, 554], [975, 566], [976, 705], [977, 488], [978, 667], [979, 713], [980, 192], [981, 301], [982, 899], [983, 808], [984, 790], [985, 455], [986, 573], [987, 3], [988, 825], [989, 682], [990, 743], [991, 221], [992, 687], [993, 708], [994, 368], [995, 64], [996, 134], [997, 638], [998, 189], [999, 261]]\n",
      "Best Matching Sum Based on Stable Matching:  20903\n",
      "SM Time Taken: 0.67\n"
     ]
    }
   ],
   "source": [
    "num_clusters_method_a = 1000\n",
    "num_clusters_method_b = 1000\n",
    "total_members = 10000000\n",
    "\n",
    "contingency_matrix = generate_random_contingency_matrix(num_clusters_method_a, num_clusters_method_b, total_members)\n",
    "\n",
    "start = time.time()\n",
    "pairs = stable_matcher(contingency_matrix)\n",
    "sorted_pairs = sorted(pairs, key=lambda x: x[0])\n",
    "best_score =  np.sum(contingency_matrix[[pair[0] for pair in sorted_pairs], [pair[1] for pair in sorted_pairs]])\n",
    "print(\"Best Matching Based on Stable Matching: \", sorted_pairs)\n",
    "print(\"Best Matching Sum Based on Stable Matching: \", best_score)\n",
    "end = time.time()\n",
    "print(f\"SM Time Taken: {(end - start):.2f}\")"
   ]
  },
  {
   "cell_type": "code",
   "execution_count": null,
   "metadata": {},
   "outputs": [],
   "source": []
  }
 ],
 "metadata": {
  "kernelspec": {
   "display_name": "anaconda-env",
   "language": "python",
   "name": "python3"
  },
  "language_info": {
   "codemirror_mode": {
    "name": "ipython",
    "version": 3
   },
   "file_extension": ".py",
   "mimetype": "text/x-python",
   "name": "python",
   "nbconvert_exporter": "python",
   "pygments_lexer": "ipython3",
   "version": "3.11.5"
  }
 },
 "nbformat": 4,
 "nbformat_minor": 2
}
